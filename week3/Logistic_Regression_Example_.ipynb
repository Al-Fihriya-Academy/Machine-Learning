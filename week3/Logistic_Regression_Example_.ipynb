{
  "nbformat": 4,
  "nbformat_minor": 0,
  "metadata": {
    "kernelspec": {
      "display_name": "Python 3",
      "language": "python",
      "name": "python3"
    },
    "language_info": {
      "codemirror_mode": {
        "name": "ipython",
        "version": 3
      },
      "file_extension": ".py",
      "mimetype": "text/x-python",
      "name": "python",
      "nbconvert_exporter": "python",
      "pygments_lexer": "ipython3",
      "version": "3.6.2"
    },
    "colab": {
      "name": "Logistic Regression Example .ipynb",
      "provenance": []
    }
  },
  "cells": [
    {
      "cell_type": "code",
      "metadata": {
        "id": "cYQJK01YFBOp",
        "colab_type": "code",
        "outputId": "b2eaf1a9-1f2d-4246-c1ae-8d58b2380b5c",
        "colab": {
          "base_uri": "https://localhost:8080/",
          "height": 72
        }
      },
      "source": [
        "# Importing pandas and numpy and datasets\n",
        "import pandas as pd\n",
        "import numpy as np\n",
        "import matplotlib.pyplot as plt \n",
        "import seaborn as sns    \n",
        "from  sklearn import  datasets"
      ],
      "execution_count": 0,
      "outputs": [
        {
          "output_type": "stream",
          "text": [
            "/usr/local/lib/python3.6/dist-packages/statsmodels/tools/_testing.py:19: FutureWarning: pandas.util.testing is deprecated. Use the functions in the public API at pandas.testing instead.\n",
            "  import pandas.util.testing as tm\n"
          ],
          "name": "stderr"
        }
      ]
    },
    {
      "cell_type": "markdown",
      "metadata": {
        "id": "KXPWTqkMFBOx",
        "colab_type": "text"
      },
      "source": [
        "### Lmoustala7at \n",
        "\n",
        "__Data:__ Les donnees li 3endna. Koula ster f data dialna katsema observations. F had l7ala, koula werda sejelna katsema observation. \n",
        "\n",
        "__Target:__ la colonne li bghina npredictiou. F had l7ala, bghina n3errfou ash nahoua nou3 dial l werda bla manchoufouha.\n",
        "\n",
        "__Features:__ Les colonnes li bghina nesta3mlou bash n predictiou. F had l7ala, bghina nesta3mlou chi me3loumate 3la lwerda ou n 3erfou ash nahoua nou3 dialha. Dik l me3loumate hia l features. "
      ]
    },
    {
      "cell_type": "code",
      "metadata": {
        "id": "f6Eg_CnbFBOv",
        "colab_type": "code",
        "colab": {}
      },
      "source": [
        "# Reading the csv file into a pandas DataFrame\n",
        "iris=datasets.load_iris()\n",
        "data = pd.DataFrame(data= np.c_[iris['data'], iris['target']],columns= iris['feature_names'] + ['target'])"
      ],
      "execution_count": 0,
      "outputs": []
    },
    {
      "cell_type": "code",
      "metadata": {
        "id": "ZKaozIurFoYR",
        "colab_type": "code",
        "outputId": "3a0a3351-5dbc-41d6-f85d-6cc1b92de46a",
        "colab": {
          "base_uri": "https://localhost:8080/",
          "height": 34
        }
      },
      "source": [
        "# 3endna 3 dial anwa3 dial werdate  (werda 0, werda 1, werda 2)\n",
        "data.target.unique()"
      ],
      "execution_count": 0,
      "outputs": [
        {
          "output_type": "execute_result",
          "data": {
            "text/plain": [
              "array([0., 1., 2.])"
            ]
          },
          "metadata": {
            "tags": []
          },
          "execution_count": 65
        }
      ]
    },
    {
      "cell_type": "code",
      "metadata": {
        "id": "ymqAnRLcFycO",
        "colab_type": "code",
        "colab": {}
      },
      "source": [
        "# bash nsehlou had l example, hadi nkheliou hir jouj anwa3 dial werdate (werda 0 et werda 1)\n",
        "data = data[data['target'].isin([0,1])]"
      ],
      "execution_count": 0,
      "outputs": []
    },
    {
      "cell_type": "code",
      "metadata": {
        "id": "uKsFFWECFBOy",
        "colab_type": "code",
        "outputId": "7434fdf1-1b2d-44da-94c9-73632be9395a",
        "colab": {
          "base_uri": "https://localhost:8080/",
          "height": 347
        }
      },
      "source": [
        "# nchoufou data dialna kidayra \n",
        "data.head(10)"
      ],
      "execution_count": 0,
      "outputs": [
        {
          "output_type": "execute_result",
          "data": {
            "text/html": [
              "<div>\n",
              "<style scoped>\n",
              "    .dataframe tbody tr th:only-of-type {\n",
              "        vertical-align: middle;\n",
              "    }\n",
              "\n",
              "    .dataframe tbody tr th {\n",
              "        vertical-align: top;\n",
              "    }\n",
              "\n",
              "    .dataframe thead th {\n",
              "        text-align: right;\n",
              "    }\n",
              "</style>\n",
              "<table border=\"1\" class=\"dataframe\">\n",
              "  <thead>\n",
              "    <tr style=\"text-align: right;\">\n",
              "      <th></th>\n",
              "      <th>sepal length (cm)</th>\n",
              "      <th>sepal width (cm)</th>\n",
              "      <th>petal length (cm)</th>\n",
              "      <th>petal width (cm)</th>\n",
              "      <th>target</th>\n",
              "    </tr>\n",
              "  </thead>\n",
              "  <tbody>\n",
              "    <tr>\n",
              "      <th>0</th>\n",
              "      <td>5.1</td>\n",
              "      <td>3.5</td>\n",
              "      <td>1.4</td>\n",
              "      <td>0.2</td>\n",
              "      <td>0.0</td>\n",
              "    </tr>\n",
              "    <tr>\n",
              "      <th>1</th>\n",
              "      <td>4.9</td>\n",
              "      <td>3.0</td>\n",
              "      <td>1.4</td>\n",
              "      <td>0.2</td>\n",
              "      <td>0.0</td>\n",
              "    </tr>\n",
              "    <tr>\n",
              "      <th>2</th>\n",
              "      <td>4.7</td>\n",
              "      <td>3.2</td>\n",
              "      <td>1.3</td>\n",
              "      <td>0.2</td>\n",
              "      <td>0.0</td>\n",
              "    </tr>\n",
              "    <tr>\n",
              "      <th>3</th>\n",
              "      <td>4.6</td>\n",
              "      <td>3.1</td>\n",
              "      <td>1.5</td>\n",
              "      <td>0.2</td>\n",
              "      <td>0.0</td>\n",
              "    </tr>\n",
              "    <tr>\n",
              "      <th>4</th>\n",
              "      <td>5.0</td>\n",
              "      <td>3.6</td>\n",
              "      <td>1.4</td>\n",
              "      <td>0.2</td>\n",
              "      <td>0.0</td>\n",
              "    </tr>\n",
              "    <tr>\n",
              "      <th>5</th>\n",
              "      <td>5.4</td>\n",
              "      <td>3.9</td>\n",
              "      <td>1.7</td>\n",
              "      <td>0.4</td>\n",
              "      <td>0.0</td>\n",
              "    </tr>\n",
              "    <tr>\n",
              "      <th>6</th>\n",
              "      <td>4.6</td>\n",
              "      <td>3.4</td>\n",
              "      <td>1.4</td>\n",
              "      <td>0.3</td>\n",
              "      <td>0.0</td>\n",
              "    </tr>\n",
              "    <tr>\n",
              "      <th>7</th>\n",
              "      <td>5.0</td>\n",
              "      <td>3.4</td>\n",
              "      <td>1.5</td>\n",
              "      <td>0.2</td>\n",
              "      <td>0.0</td>\n",
              "    </tr>\n",
              "    <tr>\n",
              "      <th>8</th>\n",
              "      <td>4.4</td>\n",
              "      <td>2.9</td>\n",
              "      <td>1.4</td>\n",
              "      <td>0.2</td>\n",
              "      <td>0.0</td>\n",
              "    </tr>\n",
              "    <tr>\n",
              "      <th>9</th>\n",
              "      <td>4.9</td>\n",
              "      <td>3.1</td>\n",
              "      <td>1.5</td>\n",
              "      <td>0.1</td>\n",
              "      <td>0.0</td>\n",
              "    </tr>\n",
              "  </tbody>\n",
              "</table>\n",
              "</div>"
            ],
            "text/plain": [
              "   sepal length (cm)  sepal width (cm)  ...  petal width (cm)  target\n",
              "0                5.1               3.5  ...               0.2     0.0\n",
              "1                4.9               3.0  ...               0.2     0.0\n",
              "2                4.7               3.2  ...               0.2     0.0\n",
              "3                4.6               3.1  ...               0.2     0.0\n",
              "4                5.0               3.6  ...               0.2     0.0\n",
              "5                5.4               3.9  ...               0.4     0.0\n",
              "6                4.6               3.4  ...               0.3     0.0\n",
              "7                5.0               3.4  ...               0.2     0.0\n",
              "8                4.4               2.9  ...               0.2     0.0\n",
              "9                4.9               3.1  ...               0.1     0.0\n",
              "\n",
              "[10 rows x 5 columns]"
            ]
          },
          "metadata": {
            "tags": []
          },
          "execution_count": 67
        }
      ]
    },
    {
      "cell_type": "code",
      "metadata": {
        "id": "gySRjG5aFBO1",
        "colab_type": "code",
        "colab": {}
      },
      "source": [
        "# nebdaou nesta3mlou hir had les 2 features bash nsehlou \n",
        "data = data[['petal length (cm)', 'petal width (cm)', 'target']]"
      ],
      "execution_count": 0,
      "outputs": []
    },
    {
      "cell_type": "code",
      "metadata": {
        "id": "wTocIPQQFBO3",
        "colab_type": "code",
        "outputId": "c7bac35b-248d-4a13-f006-4aa698cadedd",
        "colab": {
          "base_uri": "https://localhost:8080/",
          "height": 137
        }
      },
      "source": [
        "data.head(3)"
      ],
      "execution_count": 0,
      "outputs": [
        {
          "output_type": "execute_result",
          "data": {
            "text/html": [
              "<div>\n",
              "<style scoped>\n",
              "    .dataframe tbody tr th:only-of-type {\n",
              "        vertical-align: middle;\n",
              "    }\n",
              "\n",
              "    .dataframe tbody tr th {\n",
              "        vertical-align: top;\n",
              "    }\n",
              "\n",
              "    .dataframe thead th {\n",
              "        text-align: right;\n",
              "    }\n",
              "</style>\n",
              "<table border=\"1\" class=\"dataframe\">\n",
              "  <thead>\n",
              "    <tr style=\"text-align: right;\">\n",
              "      <th></th>\n",
              "      <th>petal length (cm)</th>\n",
              "      <th>petal width (cm)</th>\n",
              "      <th>target</th>\n",
              "    </tr>\n",
              "  </thead>\n",
              "  <tbody>\n",
              "    <tr>\n",
              "      <th>0</th>\n",
              "      <td>1.4</td>\n",
              "      <td>0.2</td>\n",
              "      <td>0.0</td>\n",
              "    </tr>\n",
              "    <tr>\n",
              "      <th>1</th>\n",
              "      <td>1.4</td>\n",
              "      <td>0.2</td>\n",
              "      <td>0.0</td>\n",
              "    </tr>\n",
              "    <tr>\n",
              "      <th>2</th>\n",
              "      <td>1.3</td>\n",
              "      <td>0.2</td>\n",
              "      <td>0.0</td>\n",
              "    </tr>\n",
              "  </tbody>\n",
              "</table>\n",
              "</div>"
            ],
            "text/plain": [
              "   petal length (cm)  petal width (cm)  target\n",
              "0                1.4               0.2     0.0\n",
              "1                1.4               0.2     0.0\n",
              "2                1.3               0.2     0.0"
            ]
          },
          "metadata": {
            "tags": []
          },
          "execution_count": 69
        }
      ]
    },
    {
      "cell_type": "code",
      "metadata": {
        "id": "gLOpKFxpFBO9",
        "colab_type": "code",
        "outputId": "8d6c61a3-3d4d-4372-a478-faea5b56f690",
        "colab": {
          "base_uri": "https://localhost:8080/",
          "height": 34
        }
      },
      "source": [
        "# nchoufou ch7al men elements f had la data \n",
        "print(data.shape)"
      ],
      "execution_count": 0,
      "outputs": [
        {
          "output_type": "stream",
          "text": [
            "(100, 3)\n"
          ],
          "name": "stdout"
        }
      ]
    },
    {
      "cell_type": "markdown",
      "metadata": {
        "id": "n-5v-0j8GIg1",
        "colab_type": "text"
      },
      "source": [
        "__Summary 1__:\n",
        "\n",
        "had sa3a, dekhelna la data dialna l notebook. \n",
        "- Chefna ch7al men target 3endna, l9ina 3 (werda de type 0, werda de type 1 et werda de type 2). 9ererna f l exemple ndiour tesnife hir dial werda 0 contre werda 1. Redina lproblem \"binary classification\".\n",
        "- 3enda 4 dial features f data dialna, et 3awtani bash nsehlou l m2oumouria kter f had l exemple, khdina hir 2 dial features. 'petal length' et 'petal width'. \n",
        "- Chefna data dialna fiha 100 observations. "
      ]
    },
    {
      "cell_type": "markdown",
      "metadata": {
        "id": "W31UKfCfFBO_",
        "colab_type": "text"
      },
      "source": [
        "## nfhemou target dialna "
      ]
    },
    {
      "cell_type": "code",
      "metadata": {
        "id": "C9aLCZQZFBPA",
        "colab_type": "code",
        "outputId": "c6a21dd8-e86f-4a33-e4db-85fe0976156a",
        "colab": {
          "base_uri": "https://localhost:8080/",
          "height": 70
        }
      },
      "source": [
        "# ch7al men element 3endna \n",
        "data['target'].value_counts()"
      ],
      "execution_count": 0,
      "outputs": [
        {
          "output_type": "execute_result",
          "data": {
            "text/plain": [
              "1.0    50\n",
              "0.0    50\n",
              "Name: target, dtype: int64"
            ]
          },
          "metadata": {
            "tags": []
          },
          "execution_count": 71
        }
      ]
    },
    {
      "cell_type": "markdown",
      "metadata": {
        "id": "ZhdPtfV1FBPC",
        "colab_type": "text"
      },
      "source": [
        "## nfhemou features dialna mezyane "
      ]
    },
    {
      "cell_type": "code",
      "metadata": {
        "id": "H-hrFD2-FBPC",
        "colab_type": "code",
        "outputId": "f6d1207a-4b67-443c-9d57-6d3c42eeaf38",
        "colab": {
          "base_uri": "https://localhost:8080/",
          "height": 544
        }
      },
      "source": [
        "\n",
        "# nbdaou b petal length \n",
        "\n",
        "# boxplot \n",
        "plt.boxplot(data['petal length (cm)'], vert=False)\n",
        "plt.xlabel('petal length')\n",
        "plt.show()\n",
        "\n",
        "# histogram \n",
        "plt.hist(data['petal length (cm)'])\n",
        "plt.xlabel('petal length')\n",
        "plt.show()"
      ],
      "execution_count": 0,
      "outputs": [
        {
          "output_type": "display_data",
          "data": {
            "image/png": "[encoded data removed]",
            "text/plain": [
              "<Figure size 432x288 with 1 Axes>"
            ]
          },
          "metadata": {
            "tags": [],
            "needs_background": "light"
          }
        },
        {
          "output_type": "display_data",
          "data": {
            "image/png": "[encoded data removed]",
            "text/plain": [
              "<Figure size 432x288 with 1 Axes>"
            ]
          },
          "metadata": {
            "tags": [],
            "needs_background": "light"
          }
        }
      ]
    },
    {
      "cell_type": "code",
      "metadata": {
        "id": "-4UmmUz2FBPE",
        "colab_type": "code",
        "outputId": "3a708442-b189-4d7f-e263-4824213d436d",
        "colab": {
          "base_uri": "https://localhost:8080/",
          "height": 541
        }
      },
      "source": [
        "# nchoufou petal width\n",
        "\n",
        "# boxplot \n",
        "plt.boxplot(data['petal width (cm)'], vert=False)\n",
        "plt.xlabel('Petal width')\n",
        "plt.show()\n",
        "\n",
        "# histogram \n",
        "plt.hist(data['petal width (cm)'])\n",
        "plt.xlabel('Petal width')\n",
        "plt.show()"
      ],
      "execution_count": 0,
      "outputs": [
        {
          "output_type": "display_data",
          "data": {
            "image/png": "[encoded data removed]",
            "text/plain": [
              "<Figure size 432x288 with 1 Axes>"
            ]
          },
          "metadata": {
            "tags": [],
            "needs_background": "light"
          }
        },
        {
          "output_type": "display_data",
          "data": {
            "image/png": "[encoded data removed]",
            "text/plain": [
              "<Figure size 432x288 with 1 Axes>"
            ]
          },
          "metadata": {
            "tags": [],
            "needs_background": "light"
          }
        }
      ]
    },
    {
      "cell_type": "markdown",
      "metadata": {
        "id": "5e85sxHWG54k",
        "colab_type": "text"
      },
      "source": [
        "__Summary 2__: \n",
        "\n",
        "Jbedna target dialna et koula feature ou bghina n3erfou ki dayrine. \n",
        "\n",
        "- l9ina bi ana target dialna me9souma mezzyane: 3endna 50 observations dial werda 0 et 50 observation dial werda 1. Hada men a7ssan ma yakoune. \n",
        "- Chefna la distribution dial l features dialna b jouj dial les plot: boxplot et histogram. Par example, chefna bi 2ana les observations f _\"petal length\"_ heterogenes (ye3ni ana kaynin bzaf dial les observations f wahd l interval [1, 2] et bzaf d les observations f l interval [3, 5] ou presque pas d observations f l interval [2, 3]. Hadchi kaygoul line bi ana kayna wahd tefri9a li ymken lina ndirou ma bine lwerdate b jouj. "
      ]
    },
    {
      "cell_type": "markdown",
      "metadata": {
        "id": "0CMwip0pFBPH",
        "colab_type": "text"
      },
      "source": [
        "### Nfehmou l3ala9a binathoum "
      ]
    },
    {
      "cell_type": "code",
      "metadata": {
        "id": "v6Fk1NC0FBPH",
        "colab_type": "code",
        "outputId": "af6e9d97-0624-4212-81aa-c28c99c03ec4",
        "colab": {
          "base_uri": "https://localhost:8080/",
          "height": 137
        }
      },
      "source": [
        "data.head(3)"
      ],
      "execution_count": 0,
      "outputs": [
        {
          "output_type": "execute_result",
          "data": {
            "text/html": [
              "<div>\n",
              "<style scoped>\n",
              "    .dataframe tbody tr th:only-of-type {\n",
              "        vertical-align: middle;\n",
              "    }\n",
              "\n",
              "    .dataframe tbody tr th {\n",
              "        vertical-align: top;\n",
              "    }\n",
              "\n",
              "    .dataframe thead th {\n",
              "        text-align: right;\n",
              "    }\n",
              "</style>\n",
              "<table border=\"1\" class=\"dataframe\">\n",
              "  <thead>\n",
              "    <tr style=\"text-align: right;\">\n",
              "      <th></th>\n",
              "      <th>petal length (cm)</th>\n",
              "      <th>petal width (cm)</th>\n",
              "      <th>target</th>\n",
              "    </tr>\n",
              "  </thead>\n",
              "  <tbody>\n",
              "    <tr>\n",
              "      <th>0</th>\n",
              "      <td>1.4</td>\n",
              "      <td>0.2</td>\n",
              "      <td>0.0</td>\n",
              "    </tr>\n",
              "    <tr>\n",
              "      <th>1</th>\n",
              "      <td>1.4</td>\n",
              "      <td>0.2</td>\n",
              "      <td>0.0</td>\n",
              "    </tr>\n",
              "    <tr>\n",
              "      <th>2</th>\n",
              "      <td>1.3</td>\n",
              "      <td>0.2</td>\n",
              "      <td>0.0</td>\n",
              "    </tr>\n",
              "  </tbody>\n",
              "</table>\n",
              "</div>"
            ],
            "text/plain": [
              "   petal length (cm)  petal width (cm)  target\n",
              "0                1.4               0.2     0.0\n",
              "1                1.4               0.2     0.0\n",
              "2                1.3               0.2     0.0"
            ]
          },
          "metadata": {
            "tags": []
          },
          "execution_count": 74
        }
      ]
    },
    {
      "cell_type": "code",
      "metadata": {
        "id": "D9lPcXVrFBPK",
        "colab_type": "code",
        "outputId": "0f477d39-e25d-44d3-8401-0399387e2af0",
        "colab": {
          "base_uri": "https://localhost:8080/",
          "height": 278
        }
      },
      "source": [
        "# njebdou houa louwel data li 3endhoum target = 0 \n",
        "target_0 = data[data.target == 0]\n",
        "# mplotti 'petal length (cm)' et 'petal width (cm)' bash nchoufou l3ala9a mabin had l features ou target dialna \n",
        "plt.scatter(target_0['petal length (cm)'], target_0['petal width (cm)'], color='blue', label='target 0')\n",
        "\n",
        "# ndirou nafss chay2 l target 1 \n",
        "target_1 = data[data.target == 1]\n",
        "plt.scatter(target_1['petal length (cm)'], target_1['petal width (cm)'], color='red', label='target 1')\n",
        "\n",
        "plt.legend()\n",
        "plt.xlabel('petal length (cm)')\n",
        "plt.ylabel('petal width (cm)')\n",
        "\n",
        "plt.show()"
      ],
      "execution_count": 0,
      "outputs": [
        {
          "output_type": "display_data",
          "data": {
            "image/png": "[encoded data removed]",
            "text/plain": [
              "<Figure size 432x288 with 1 Axes>"
            ]
          },
          "metadata": {
            "tags": [],
            "needs_background": "light"
          }
        }
      ]
    },
    {
      "cell_type": "markdown",
      "metadata": {
        "id": "NIz2ghtoIXLg",
        "colab_type": "text"
      },
      "source": [
        "__Summary 3:__\n",
        "\n",
        "Puisque 3enda hir deux features, tmekena ana n resmou data dialna f had l graph. Had lgraph kaytsema \"scatter plot\". Fash plotinahoum, bane lina bi 2ana werda 0 et werda 1 mfrou9ine mezyane. Werda 1 (7emrine) 3end petalate kbar f toul (petal length) ou kbar f l 3erd (petal width). Par contre, l werdate 0 3endhoum petalate sghar f toul ou sghar f l3erd. \n",
        "\n",
        "Daba bghina n sen3ou l modele li yfre9houm lina rassou. Hadi nsta3mlou Logistic Regression. "
      ]
    },
    {
      "cell_type": "markdown",
      "metadata": {
        "id": "g5J0MUmzFBPM",
        "colab_type": "text"
      },
      "source": [
        "## randomize data "
      ]
    },
    {
      "cell_type": "code",
      "metadata": {
        "scrolled": true,
        "id": "OYYr8OTCFBPM",
        "colab_type": "code",
        "colab": {}
      },
      "source": [
        "# nradomiziou data dialna (randomizi kate3ni katkhelet data dialka, aw bi ma3na akher kadmessha b7al l carta)\n",
        "data = data.sample(frac=1, random_state = 42)"
      ],
      "execution_count": 0,
      "outputs": []
    },
    {
      "cell_type": "markdown",
      "metadata": {
        "id": "SLLfV7hNFBPP",
        "colab_type": "text"
      },
      "source": [
        "### n9essmou data l training ou testing "
      ]
    },
    {
      "cell_type": "code",
      "metadata": {
        "id": "HzTwnHaiFBPQ",
        "colab_type": "code",
        "colab": {}
      },
      "source": [
        "# blast manketbou la fonction dialna, nsta3mlou wehda wajda men library sklearn \n",
        "from sklearn.model_selection import train_test_split"
      ],
      "execution_count": 0,
      "outputs": []
    },
    {
      "cell_type": "code",
      "metadata": {
        "id": "gH3HEpwTFBPT",
        "colab_type": "code",
        "colab": {}
      },
      "source": [
        "data_train, data_test = train_test_split(data, test_size=0.2)"
      ],
      "execution_count": 0,
      "outputs": []
    },
    {
      "cell_type": "code",
      "metadata": {
        "id": "qQtORxekFBPV",
        "colab_type": "code",
        "outputId": "83a76594-8e28-4210-8401-3cc3e7d2288f",
        "colab": {
          "base_uri": "https://localhost:8080/",
          "height": 34
        }
      },
      "source": [
        "# 3endna 100 observations f la data kamla\n",
        "print(data.shape)"
      ],
      "execution_count": 0,
      "outputs": [
        {
          "output_type": "stream",
          "text": [
            "(100, 3)\n"
          ],
          "name": "stdout"
        }
      ]
    },
    {
      "cell_type": "code",
      "metadata": {
        "id": "E1n6UhTYFBPY",
        "colab_type": "code",
        "outputId": "82e0640c-0e59-4c4c-e66f-695658c42a65",
        "colab": {
          "base_uri": "https://localhost:8080/",
          "height": 34
        }
      },
      "source": [
        "# 3endna 80 observations f training data\n",
        "print(data_train.shape)"
      ],
      "execution_count": 0,
      "outputs": [
        {
          "output_type": "stream",
          "text": [
            "(80, 3)\n"
          ],
          "name": "stdout"
        }
      ]
    },
    {
      "cell_type": "code",
      "metadata": {
        "id": "XfNrQyMAFBPb",
        "colab_type": "code",
        "outputId": "67b63c67-bceb-425d-c3ba-26d3232665a4",
        "colab": {
          "base_uri": "https://localhost:8080/",
          "height": 34
        }
      },
      "source": [
        "# 3endna 20 observations f training data\n",
        "print(data_test.shape)"
      ],
      "execution_count": 0,
      "outputs": [
        {
          "output_type": "stream",
          "text": [
            "(20, 3)\n"
          ],
          "name": "stdout"
        }
      ]
    },
    {
      "cell_type": "code",
      "metadata": {
        "id": "COVJCJ-FFBPd",
        "colab_type": "code",
        "outputId": "70eab89a-125a-480b-bc30-9099c165af4f",
        "colab": {
          "base_uri": "https://localhost:8080/",
          "height": 278
        }
      },
      "source": [
        "# nchoufou data ta3na 3awtani \n",
        "plt.scatter(data_train['petal length (cm)'], data_train['petal width (cm)'], color='red', label='training')\n",
        "plt.scatter(data_test['petal length (cm)'], data_test['petal width (cm)'], color='green', label='testing')\n",
        "\n",
        "plt.legend()\n",
        "plt.xlabel('petal length (cm)')\n",
        "plt.ylabel('petal width (cm)')\n",
        "\n",
        "plt.show()"
      ],
      "execution_count": 0,
      "outputs": [
        {
          "output_type": "display_data",
          "data": {
            "image/png": "[encoded data removed]",
            "text/plain": [
              "<Figure size 432x288 with 1 Axes>"
            ]
          },
          "metadata": {
            "tags": [],
            "needs_background": "light"
          }
        }
      ]
    },
    {
      "cell_type": "markdown",
      "metadata": {
        "id": "7u8PUiTrFBPf",
        "colab_type": "text"
      },
      "source": [
        "### train logistic regression "
      ]
    },
    {
      "cell_type": "code",
      "metadata": {
        "id": "COYrQPCyFBPf",
        "colab_type": "code",
        "colab": {}
      },
      "source": [
        "# n9essmou data l features et target \n",
        "X_train = data_train[['petal length (cm)', 'petal width (cm)']]\n",
        "y_train = data_train['target']\n",
        "\n",
        "\n",
        "X_test = data_test[['petal length (cm)', 'petal width (cm)']]\n",
        "y_test = data_test['target']"
      ],
      "execution_count": 0,
      "outputs": []
    },
    {
      "cell_type": "code",
      "metadata": {
        "id": "ztyJwcYbFBPh",
        "colab_type": "code",
        "outputId": "d7bb7f13-69a6-432d-99bf-c4f5657ec866",
        "colab": {
          "base_uri": "https://localhost:8080/",
          "height": 105
        }
      },
      "source": [
        "from sklearn.linear_model import LogisticRegression\n",
        "# kan sen3ou l object dial logistic regression\n",
        "logisticRegr = LogisticRegression()\n",
        "# kan 3etiouh la data dialna bash yt3elem \n",
        "logisticRegr.fit(X_train, y_train)"
      ],
      "execution_count": 0,
      "outputs": [
        {
          "output_type": "execute_result",
          "data": {
            "text/plain": [
              "LogisticRegression(C=1.0, class_weight=None, dual=False, fit_intercept=True,\n",
              "                   intercept_scaling=1, l1_ratio=None, max_iter=100,\n",
              "                   multi_class='auto', n_jobs=None, penalty='l2',\n",
              "                   random_state=None, solver='lbfgs', tol=0.0001, verbose=0,\n",
              "                   warm_start=False)"
            ]
          },
          "metadata": {
            "tags": []
          },
          "execution_count": 84
        }
      ]
    },
    {
      "cell_type": "markdown",
      "metadata": {
        "id": "2i8eG8aWFBPj",
        "colab_type": "text"
      },
      "source": [
        "### Nchoufou chnou logistic regression kate3tina "
      ]
    },
    {
      "cell_type": "markdown",
      "metadata": {
        "id": "dbxA2QyOFBPk",
        "colab_type": "text"
      },
      "source": [
        "Ntfekrou la formule dial logistic regression \n",
        "\n",
        "$$p(y=1|x; \\theta) = \\frac{1}{1 + e^{\\theta_0 + \\theta_1 x_1 + \\theta_2 x_2}}$$\n",
        "\n",
        "N9elbou ha bash nel9aou \n",
        "\n",
        "$$\\theta_0 + \\theta_1 x_1 + \\theta_2 x_2 = log(\\frac{p}{1-p})$$\n",
        "\n",
        "lmou3adala dial mousta9im hiya \n",
        "$$\\theta_0 + \\theta_1 x_1 + \\theta_2 x_2 = 0$$ \n",
        "\n",
        "That is, \n",
        "\n",
        "$$x_2 = \\frac{1}{\\theta_2} (\\theta_0 + \\theta_1 x_1)$$ "
      ]
    },
    {
      "cell_type": "code",
      "metadata": {
        "id": "UjZyqzKHFBPk",
        "colab_type": "code",
        "outputId": "a626032d-3cdb-4fe4-a6ef-44125c76a4af",
        "colab": {
          "base_uri": "https://localhost:8080/",
          "height": 34
        }
      },
      "source": [
        "# nchoufou had les coefficients (theta_0, theta_1, theta_2)\n",
        "logisticRegr.coef_"
      ],
      "execution_count": 0,
      "outputs": [
        {
          "output_type": "execute_result",
          "data": {
            "text/plain": [
              "array([[2.46057281, 1.00843354]])"
            ]
          },
          "metadata": {
            "tags": []
          },
          "execution_count": 85
        }
      ]
    },
    {
      "cell_type": "code",
      "metadata": {
        "id": "2NUlGfZ2FBPn",
        "colab_type": "code",
        "outputId": "d258f238-7d19-42c9-dfc3-b48eccc4d7e3",
        "colab": {
          "base_uri": "https://localhost:8080/",
          "height": 34
        }
      },
      "source": [
        "# intercept hiya theta_0 \n",
        "logisticRegr.intercept_"
      ],
      "execution_count": 0,
      "outputs": [
        {
          "output_type": "execute_result",
          "data": {
            "text/plain": [
              "array([-7.47510067])"
            ]
          },
          "metadata": {
            "tags": []
          },
          "execution_count": 86
        }
      ]
    },
    {
      "cell_type": "code",
      "metadata": {
        "id": "sLAJL3HzFBPs",
        "colab_type": "code",
        "colab": {}
      },
      "source": [
        "theta_0 = logisticRegr.intercept_[0]\n",
        "theta_1 = logisticRegr.coef_[0, 0]\n",
        "theta_2 = logisticRegr.coef_[0, 1]"
      ],
      "execution_count": 0,
      "outputs": []
    },
    {
      "cell_type": "code",
      "metadata": {
        "id": "8obgeHULFBPu",
        "colab_type": "code",
        "outputId": "3aac1cc8-65ed-42aa-9911-e96490ee7254",
        "colab": {
          "base_uri": "https://localhost:8080/",
          "height": 278
        }
      },
      "source": [
        "# decision bondary hiya lmousta9im li kayfre9 lina target mabine 0 et 1 \n",
        "\n",
        "# nressmou decision boundary dialna \n",
        "def decision_boundary(theta_0, theta_1, theta_2, l_x):\n",
        "    return 1 / theta_2 * (-theta_0 -theta_1 * l_x)\n",
        "\n",
        "# njebdou houa louwel data li 3endhoum target = 0 \n",
        "target_0 = data[data.target == 0]\n",
        "# mplotti 'petal length (cm)' et 'petal width (cm)' bash nchoufou l3ala9a mabin had l features ou target dialna \n",
        "plt.scatter(target_0['petal length (cm)'], target_0['petal width (cm)'], color='blue', label='target 0')\n",
        "\n",
        "# ndirou nafss chay2 l target 1 \n",
        "target_1 = data[data.target == 1]\n",
        "plt.scatter(target_1['petal length (cm)'], target_1['petal width (cm)'], color='red', label='target 1')\n",
        "\n",
        "# nzidou decision boundary \n",
        "l_x = np.linspace(1, 5)\n",
        "l_y = decision_boundary(theta_0, theta_1, theta_2, l_x)\n",
        "plt.plot(l_x, l_y, label='decision boundary')\n",
        "\n",
        "plt.legend()\n",
        "plt.xlabel('petal length (cm)')\n",
        "plt.ylabel('petal width (cm)')\n",
        "\n",
        "plt.show()"
      ],
      "execution_count": 0,
      "outputs": [
        {
          "output_type": "display_data",
          "data": {
            "image/png": "[encoded data removed]",
            "text/plain": [
              "<Figure size 432x288 with 1 Axes>"
            ]
          },
          "metadata": {
            "tags": [],
            "needs_background": "light"
          }
        }
      ]
    },
    {
      "cell_type": "markdown",
      "metadata": {
        "id": "p9mahAoFFBPw",
        "colab_type": "text"
      },
      "source": [
        "### Wash mezyane had l model li gadina "
      ]
    },
    {
      "cell_type": "markdown",
      "metadata": {
        "id": "OTKlISbRFBPw",
        "colab_type": "text"
      },
      "source": [
        "Kaynine bezaf dial les methodes bash to measure the performance of your model. \n",
        "\n",
        "Anhderou 3la hadou: \n",
        "- Confusion Matrix \n",
        "- Accuracy \n",
        "- Precision \n",
        "- Recall "
      ]
    },
    {
      "cell_type": "markdown",
      "metadata": {
        "id": "4cS0-BGUFBPx",
        "colab_type": "text"
      },
      "source": [
        "#### Confusion Matrix \n",
        "\n"
      ]
    },
    {
      "cell_type": "markdown",
      "metadata": {
        "id": "BVrqmeYxKc_t",
        "colab_type": "text"
      },
      "source": [
        "[<img src=\"https://static.packt-cdn.com/products/9781838555078/graphics/C13314_06_05.jpg\">]"
      ]
    },
    {
      "cell_type": "markdown",
      "metadata": {
        "id": "GRXxIU-5FBPy",
        "colab_type": "text"
      },
      "source": [
        "__TN (True Negative)__:  I Predict target=0 et fl7a9i9a hiya target=0\n",
        "\n",
        "__TP (True Positive)__:  I Predict target=1 et fl7a9i9a hiya target=1\n",
        "\n",
        "__FN (False Negative)__: I Predict target=0 et fl7a9i9a hiya target=1\n",
        "\n",
        "__FP (False Positive)__: I Predict target=1 et fl7a9i9a hiya target=0"
      ]
    },
    {
      "cell_type": "code",
      "metadata": {
        "id": "tAAyhVo-FBPy",
        "colab_type": "code",
        "outputId": "398744d4-be65-41b3-cf70-8ceb2e4407a8",
        "colab": {
          "base_uri": "https://localhost:8080/",
          "height": 52
        }
      },
      "source": [
        "# nchoufou predictions diawlna \n",
        "y_pred = logisticRegr.predict(X_test)\n",
        "\n",
        "print('predictions: {}'.format(y_pred))\n",
        "print('true: {}'.format(list(y_test.astype(int))))"
      ],
      "execution_count": 0,
      "outputs": [
        {
          "output_type": "stream",
          "text": [
            "predictions: [1. 0. 0. 0. 1. 1. 0. 1. 1. 1. 0. 0. 0. 1. 0. 0. 1. 1. 1. 0.]\n",
            "true: [1, 0, 0, 0, 1, 1, 0, 1, 1, 1, 0, 0, 0, 1, 0, 0, 1, 1, 1, 0]\n"
          ],
          "name": "stdout"
        }
      ]
    },
    {
      "cell_type": "code",
      "metadata": {
        "id": "Zu8KgbziFBP1",
        "colab_type": "code",
        "colab": {}
      },
      "source": [
        "from sklearn.metrics import confusion_matrix\n",
        "# confusion matrix \n",
        "cm = confusion_matrix(y_true=y_test, y_pred=y_pred)\n"
      ],
      "execution_count": 0,
      "outputs": []
    },
    {
      "cell_type": "code",
      "metadata": {
        "id": "Q5SNrrGAFBP3",
        "colab_type": "code",
        "outputId": "da0dc31f-135a-4c6c-84a9-4d0fa33fd1f7",
        "colab": {
          "base_uri": "https://localhost:8080/",
          "height": 294
        }
      },
      "source": [
        "# n9adouha bash tbane zwina \n",
        "\n",
        "ax= plt.subplot()\n",
        "sns.heatmap(cm, annot=True, ax = ax, cbar=False)\n",
        "\n",
        "# labels, title and ticks\n",
        "ax.set_xlabel('Predicted labels')\n",
        "ax.set_ylabel('True labels')\n",
        "ax.set_title('Confusion Matrix')\n",
        "ax.xaxis.set_ticklabels(['target=0', 'target=1'])\n",
        "ax.yaxis.set_ticklabels(['target=0', 'target=1'])\n",
        "plt.show()"
      ],
      "execution_count": 0,
      "outputs": [
        {
          "output_type": "display_data",
          "data": {
            "image/png": "[encoded data removed]",
            "text/plain": [
              "<Figure size 432x288 with 1 Axes>"
            ]
          },
          "metadata": {
            "tags": [],
            "needs_background": "light"
          }
        }
      ]
    },
    {
      "cell_type": "code",
      "metadata": {
        "id": "zdt5L91JFBP5",
        "colab_type": "code",
        "colab": {}
      },
      "source": [
        "# true negative \n",
        "TN = 10\n",
        "# true positive \n",
        "TP = 10\n",
        "# false negative \n",
        "FN = 0 \n",
        "# false positive \n",
        "FP = 0 "
      ],
      "execution_count": 0,
      "outputs": []
    },
    {
      "cell_type": "markdown",
      "metadata": {
        "id": "rMGfg3HzFBP7",
        "colab_type": "text"
      },
      "source": [
        "#### Accuracy \n",
        "\n",
        "Accuracy hiya l pourcentage dial 2ajwiba s7i7a \n",
        "\n",
        "$$\\text{Accuracy} = \\frac{\\text{Ajwiba s7i7a}}{\\text{Koulchi l 2ajwiba}}$$\n",
        "\n",
        "\n",
        "Ashnahoua l2ajwiba s7i7a? \n",
        "\n",
        "Ajwiba s7i7a hiya True Positives (TP) and True negatives (TN) \n",
        "\n",
        "\n",
        "$$\\text{Accuracy (%)} = \\frac{TP + TN}{TP + FP + TN + FN} * 100$$"
      ]
    },
    {
      "cell_type": "code",
      "metadata": {
        "scrolled": true,
        "id": "-qCpJ4eCFBP7",
        "colab_type": "code",
        "outputId": "4b330e86-c464-42c7-ba62-276f3a72f416",
        "colab": {
          "base_uri": "https://localhost:8080/",
          "height": 34
        }
      },
      "source": [
        "accuracy = (TN + TP) / (TN + TP + FP + FN) * 100\n",
        "print(accuracy, '%')"
      ],
      "execution_count": 0,
      "outputs": [
        {
          "output_type": "stream",
          "text": [
            "100.0 %\n"
          ],
          "name": "stdout"
        }
      ]
    },
    {
      "cell_type": "markdown",
      "metadata": {
        "id": "XE9-NYmeFBP9",
        "colab_type": "text"
      },
      "source": [
        "#### Precision \n",
        "\n",
        "precision: F ga3 douk l merrate li predictina target = 1, ch7al houal pourcentage kan target = 1 f l 7a9i9a \n",
        "\n",
        "\n",
        "$$\\text{Precision (%)} = \\frac{TP}{TP + FP} * 100$$"
      ]
    },
    {
      "cell_type": "code",
      "metadata": {
        "id": "EtOw8zOZFBP-",
        "colab_type": "code",
        "outputId": "76dcdcd8-c1f3-44ae-e57e-b2c27a496814",
        "colab": {
          "base_uri": "https://localhost:8080/",
          "height": 34
        }
      },
      "source": [
        "precision = TP / (TP + FP) * 100\n",
        "print(precision, '%')"
      ],
      "execution_count": 0,
      "outputs": [
        {
          "output_type": "stream",
          "text": [
            "100.0 %\n"
          ],
          "name": "stdout"
        }
      ]
    },
    {
      "cell_type": "markdown",
      "metadata": {
        "id": "tbE_icm-FBP_",
        "colab_type": "text"
      },
      "source": [
        "#### Recall \n",
        "\n",
        "recall: chnahoua l pourcentage men les observations li 3endhoum target=1 fl7a9i9a jebna s7a7 \n",
        "\n",
        "\n",
        "$$\\text{Recall (%)} = \\frac{TP}{TP + FN} * 100$$"
      ]
    },
    {
      "cell_type": "code",
      "metadata": {
        "id": "LOqRVc9uFBQA",
        "colab_type": "code",
        "outputId": "9b584d4d-dbf1-4a77-f44b-4ba274feca44",
        "colab": {
          "base_uri": "https://localhost:8080/",
          "height": 34
        }
      },
      "source": [
        "recall = TP / (TP + FN) * 100\n",
        "print(recall, '%')"
      ],
      "execution_count": 0,
      "outputs": [
        {
          "output_type": "stream",
          "text": [
            "100.0 %\n"
          ],
          "name": "stdout"
        }
      ]
    },
    {
      "cell_type": "markdown",
      "metadata": {
        "id": "NNnEDWn3FBQX",
        "colab_type": "text"
      },
      "source": [
        "__Summary 3__:\n",
        "\n",
        "Daba derna wahd le tour sghiwer 3la les bases dial les problems dial classification. \n",
        "- bdina dekhelna la data dialna notebook \n",
        "- khdina hir les features li bghina ou segherna l probleme dialna l binary classification \n",
        "- chefna la distribution dial data ou l9ina bi ana kayna wahd tefri9a f la data li ymken lina nstaghlou \n",
        "- 9ssemna data dialna l training ou testing \n",
        "- sne3na l model dialna using Logistic Regression \n",
        "- chefna l performance dial model dialna \n",
        "\n",
        "l9ina bi 2ana l performance dialna 100% f koulchi walakine khassekoum t3erfou bi ana had l problem hada sahel bzaf. Les problemes f l7a9i9a kaykounou chwiya 9ass7ine 3la hadchi ou souvent makatkounch 3endek 100% performance. Ila l9iti rassek derti un model parfait, kaykhessek t9eleleb yakma derti chi mouchkil f chi blassa. "
      ]
    },
    {
      "cell_type": "code",
      "metadata": {
        "id": "We6ugQ6kMv-l",
        "colab_type": "code",
        "colab": {}
      },
      "source": [
        ""
      ],
      "execution_count": 0,
      "outputs": []
    }
  ]
}